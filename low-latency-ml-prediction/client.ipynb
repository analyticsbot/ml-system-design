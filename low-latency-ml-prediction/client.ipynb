{
 "cells": [
  {
   "cell_type": "code",
   "execution_count": null,
   "metadata": {},
   "outputs": [],
   "source": [
    "import requests\n",
    "\n",
    "# Define input features (using the Iris dataset structure)\n",
    "input_data = {\n",
    "    \"sepal length (cm)\": 5.1,\n",
    "    \"sepal width (cm)\": 3.5,\n",
    "    \"petal length (cm)\": 1.4,\n",
    "    \"petal width (cm)\": 0.2\n",
    "}\n",
    "\n",
    "# Make a request to the API\n",
    "response = requests.post(\"http://localhost:5001/predict\", json=input_data)\n",
    "\n",
    "# Print out the prediction result\n",
    "print(\"Prediction:\", response.json())\n"
   ]
  }
 ],
 "metadata": {
  "language_info": {
   "name": "python"
  }
 },
 "nbformat": 4,
 "nbformat_minor": 2
}
